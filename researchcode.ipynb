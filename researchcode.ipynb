{
 "cells": [
  {
   "cell_type": "code",
   "execution_count": 52,
   "metadata": {},
   "outputs": [],
   "source": [
    "import networkx as nx\n",
    "import numpy as np\n",
    "import re\n",
    "G=nx.Graph()\n",
    "nodes=[]\n",
    "edge=[]\n",
    "labelnames=[]\n",
    "adjList={}\n",
    "b=[]\n",
    "file = open('football.gml', 'r')\n",
    "for line in file.readlines():\n",
    "    if re.search(' id ',line, re.I):\n",
    "        nodes.append(int(line.replace(\"id\",\"\").strip()))\n",
    "    if re.search('source',line, re.I):\n",
    "        source=int(line.replace(\"source\",\"\").strip()) \n",
    "    if re.search('target',line, re.I):\n",
    "        target= int(line.replace(\"target\",\"\").strip())  \n",
    "        edge.append([source,target])\n",
    "    if re.search('label',line, re.I): \n",
    "        labelnames.append(line.replace(\"label\",\"\").strip())\n",
    "file.close()\n",
    "G.add_nodes_from(nodes)\n",
    "G.add_edges_from(edge)\n",
    "for i in G.nodes():\n",
    "    for j in G.nodes():\n",
    "        if G.has_edge(i,j):\n",
    "            b.append(j)\n",
    "    adjList[i]=b\n",
    "    b=[]\n"
   ]
  },
  {
   "cell_type": "code",
   "execution_count": 53,
   "metadata": {},
   "outputs": [],
   "source": [
    "dicto={}\n",
    "nodes_depth= {}\n",
    "nodes_explored={}\n",
    "depthLimit= 3"
   ]
  },
  {
   "cell_type": "code",
   "execution_count": 54,
   "metadata": {},
   "outputs": [],
   "source": [
    "M = np.empty(shape=[0, len(nodes)])\n",
    "for i in nodes:\n",
    "    list1=[]\n",
    "    openList=[]\n",
    "    closeList=[]\n",
    "    for j in nodes:\n",
    "        dicto[j] = nx.clustering(G, j)\n",
    "        nodes_explored[j]=False\n",
    "    openList.append(i)\n",
    "    nodes_depth[i] = 0\n",
    "    while(openList):\n",
    "        currNode= openList.pop()\n",
    "        if(nodes_depth[currNode]==0):\n",
    "            dicto[currNode] = float(\"inf\")\n",
    "        else:\n",
    "            dicto[currNode] = dicto[currNode] + (nodes_depth[currNode] ** -2)\n",
    "        for i in closeList:\n",
    "            if(nodes_depth[i] >= nodes_depth[currNode]):\n",
    "                nodes_explored[i]=False\n",
    "                closeList.remove(i)\n",
    "        if (nodes_depth[currNode] < depthLimit):\n",
    "            for n in adjList[currNode]:\n",
    "                if(not nodes_explored[n]):\n",
    "                    openList.append(n)\n",
    "                    nodes_depth[n] = nodes_depth[currNode] + 1\n",
    "            nodes_explored[currNode] = True\n",
    "            closeList.append(currNode)\n",
    "    for ele in dicto:\n",
    "        list1.append(dicto[ele])\n",
    "    M = np.vstack([M,list1])\n",
    "                    \n",
    "                    \n",
    "                "
   ]
  },
  {
   "cell_type": "code",
   "execution_count": 55,
   "metadata": {},
   "outputs": [],
   "source": [
    "y = np.where(M==float(\"inf\"), 0, M)"
   ]
  },
  {
   "cell_type": "code",
   "execution_count": 56,
   "metadata": {},
   "outputs": [
    {
     "data": {
      "text/plain": [
       "array([[0.        , 0.88383838, 0.48989899, ..., 0.51111111, 0.55555556,\n",
       "        0.79545455],\n",
       "       [1.34848485, 0.        , 0.37878788, ..., 0.65      , 0.55555556,\n",
       "        0.65656566],\n",
       "       [0.34848485, 0.55050505, 0.        , ..., 0.4       , 0.44444444,\n",
       "        0.76767677],\n",
       "       ...,\n",
       "       [0.34848485, 0.43939394, 0.37878788, ..., 0.        , 0.69444444,\n",
       "        0.54545455],\n",
       "       [0.57070707, 0.43939394, 0.37878788, ..., 0.53888889, 0.        ,\n",
       "        0.54545455],\n",
       "       [0.57070707, 0.43939394, 0.6010101 , ..., 0.28888889, 0.55555556,\n",
       "        0.        ]])"
      ]
     },
     "execution_count": 56,
     "metadata": {},
     "output_type": "execute_result"
    }
   ],
   "source": [
    "y"
   ]
  },
  {
   "cell_type": "code",
   "execution_count": 57,
   "metadata": {},
   "outputs": [],
   "source": [
    "list2=[]"
   ]
  },
  {
   "cell_type": "code",
   "execution_count": 58,
   "metadata": {},
   "outputs": [],
   "source": [
    "import pandas as pd\n",
    "df = pd.DataFrame(\n",
    "    [i, sum(y[i])] for i in range(0,len(nodes))\n",
    ")"
   ]
  },
  {
   "cell_type": "code",
   "execution_count": 59,
   "metadata": {},
   "outputs": [
    {
     "data": {
      "text/plain": [
       "0      67.688023\n",
       "1      67.847114\n",
       "2      69.018831\n",
       "3      70.008730\n",
       "4      60.618326\n",
       "5      67.922872\n",
       "6      80.301659\n",
       "7      66.559235\n",
       "8      54.008225\n",
       "9      54.813781\n",
       "10     68.869841\n",
       "11     69.447619\n",
       "12     68.730952\n",
       "13     69.376912\n",
       "14     55.380952\n",
       "15     77.076912\n",
       "16     62.673882\n",
       "17     61.052165\n",
       "18     63.164286\n",
       "19     68.766811\n",
       "20     66.561760\n",
       "21     64.804185\n",
       "22     59.610750\n",
       "23     63.081962\n",
       "24     73.897619\n",
       "25     74.082973\n",
       "26     69.758730\n",
       "27     68.033983\n",
       "28     66.703175\n",
       "29     67.795599\n",
       "         ...    \n",
       "85     70.203175\n",
       "86     67.922872\n",
       "87     70.329942\n",
       "88     75.276407\n",
       "89     64.471861\n",
       "90     61.508730\n",
       "91     68.367316\n",
       "92     77.681457\n",
       "93     63.025397\n",
       "94     69.158730\n",
       "95     59.703175\n",
       "96     60.864286\n",
       "97     62.322222\n",
       "98     69.172872\n",
       "99     73.475397\n",
       "100    66.969841\n",
       "101    76.514286\n",
       "102    67.614286\n",
       "103    65.608730\n",
       "104    71.950649\n",
       "105    61.064286\n",
       "106    75.442063\n",
       "107    66.253175\n",
       "108    59.653175\n",
       "109    67.314791\n",
       "110    69.916306\n",
       "111    54.813781\n",
       "112    59.858730\n",
       "113    62.425397\n",
       "114    63.324387\n",
       "Name: 1, Length: 115, dtype: float64"
      ]
     },
     "execution_count": 59,
     "metadata": {},
     "output_type": "execute_result"
    }
   ],
   "source": [
    "df[1]"
   ]
  },
  {
   "cell_type": "code",
   "execution_count": 60,
   "metadata": {},
   "outputs": [],
   "source": [
    "X=df.iloc[:,[0,1]].values"
   ]
  },
  {
   "cell_type": "code",
   "execution_count": 61,
   "metadata": {},
   "outputs": [],
   "source": [
    "m= df.shape[0]\n",
    "n= df.shape[1]"
   ]
  },
  {
   "cell_type": "code",
   "execution_count": 62,
   "metadata": {},
   "outputs": [],
   "source": [
    "Centroids=np.array([]).reshape(n,0) \n"
   ]
  },
  {
   "cell_type": "code",
   "execution_count": 63,
   "metadata": {},
   "outputs": [
    {
     "data": {
      "text/plain": [
       "array([], shape=(2, 0), dtype=float64)"
      ]
     },
     "execution_count": 63,
     "metadata": {},
     "output_type": "execute_result"
    }
   ],
   "source": [
    "Centroids"
   ]
  },
  {
   "cell_type": "code",
   "execution_count": 64,
   "metadata": {},
   "outputs": [],
   "source": [
    "K=12"
   ]
  },
  {
   "cell_type": "code",
   "execution_count": 65,
   "metadata": {},
   "outputs": [
    {
     "name": "stdout",
     "output_type": "stream",
     "text": [
      "[24.         73.89761905]\n",
      "[13.         69.37691198]\n",
      "[11.         69.44761905]\n",
      "[65.        61.1450938]\n",
      "[ 8.         54.00822511]\n",
      "[103.          65.60873016]\n",
      "[66.        64.8021645]\n",
      "[36.         66.56031746]\n",
      "[108.         59.6531746]\n",
      "[ 3.         70.00873016]\n",
      "[98.         69.17287157]\n",
      "[ 4.         60.61832612]\n"
     ]
    }
   ],
   "source": [
    "import random as rd\n",
    "for i in range(K):\n",
    "    rand=rd.randint(0,m-1)\n",
    "    print(X[rand])\n",
    "    Centroids=np.c_[Centroids,X[rand]]"
   ]
  },
  {
   "cell_type": "code",
   "execution_count": 66,
   "metadata": {},
   "outputs": [],
   "source": [
    "EuclidianDistance=np.array([]).reshape(m,0)\n",
    "for k in range(K):\n",
    "    tempDist=np.sum((X-Centroids[:,k])**2,axis=1)\n",
    "    EuclidianDistance=np.c_[EuclidianDistance,tempDist]\n",
    "C=np.argmin(EuclidianDistance,axis=1)+1"
   ]
  },
  {
   "cell_type": "code",
   "execution_count": 67,
   "metadata": {},
   "outputs": [],
   "source": [
    "n_iter=100\n"
   ]
  },
  {
   "cell_type": "code",
   "execution_count": 68,
   "metadata": {},
   "outputs": [],
   "source": [
    "Y={}\n",
    "for k in range(K):\n",
    "    Y[k+1]=np.array([]).reshape(2,0)\n",
    "for i in range(m):\n",
    "    Y[C[i]]=np.c_[Y[C[i]],X[i]]\n",
    "     \n",
    "for k in range(K):\n",
    "    Y[k+1]=Y[k+1].T\n",
    "    \n",
    "for k in range(K):\n",
    "     Centroids[:,k]=np.mean(Y[k+1],axis=0)"
   ]
  },
  {
   "cell_type": "code",
   "execution_count": 69,
   "metadata": {},
   "outputs": [],
   "source": [
    "for i in range(n_iter):\n",
    "    EuclidianDistance=np.array([]).reshape(m,0)\n",
    "    for k in range(K):\n",
    "        tempDist=np.sum((X-Centroids[:,k])**2,axis=1)\n",
    "        EuclidianDistance=np.c_[EuclidianDistance,tempDist]\n",
    "    C=np.argmin(EuclidianDistance,axis=1)+1\n",
    "     #step 2.b\n",
    "    Y={}\n",
    "    for k in range(K):\n",
    "          Y[k+1]=np.array([]).reshape(2,0)\n",
    "    for i in range(m):\n",
    "          Y[C[i]]=np.c_[Y[C[i]],X[i]]\n",
    "     \n",
    "    for k in range(K):\n",
    "          Y[k+1]=Y[k+1].T\n",
    "    \n",
    "    for k in range(K):\n",
    "          Centroids[:,k]=np.mean(Y[k+1],axis=0)\n",
    "    Output=Y"
   ]
  },
  {
   "cell_type": "code",
   "execution_count": 70,
   "metadata": {},
   "outputs": [],
   "source": [
    "dict1={}"
   ]
  },
  {
   "cell_type": "code",
   "execution_count": 71,
   "metadata": {
    "scrolled": false
   },
   "outputs": [],
   "source": [
    "for k, v in Output.items():\n",
    "    for i in range(len(v)):\n",
    "        dict1[Output[k][i][0]] = k"
   ]
  },
  {
   "cell_type": "code",
   "execution_count": 72,
   "metadata": {},
   "outputs": [],
   "source": [
    "import csv\n",
    "with open('footballEdgeList.csv', 'w', newline='') as file:\n",
    "    writer = csv.writer(file)\n",
    "    writer.writerow([\"Source\", \"Target\"])\n",
    "    for i in edge:\n",
    "        writer.writerow([i[0], i[1]])\n",
    "        "
   ]
  },
  {
   "cell_type": "code",
   "execution_count": 49,
   "metadata": {},
   "outputs": [
    {
     "data": {
      "text/plain": [
       "['\"BrighamYoung\"',\n",
       " '\"FloridaState\"',\n",
       " '\"Iowa\"',\n",
       " '\"KansasState\"',\n",
       " '\"NewMexico\"',\n",
       " '\"TexasTech\"',\n",
       " '\"PennState\"',\n",
       " '\"SouthernCalifornia\"',\n",
       " '\"ArizonaState\"',\n",
       " '\"SanDiegoState\"',\n",
       " '\"Baylor\"',\n",
       " '\"NorthTexas\"',\n",
       " '\"NorthernIllinois\"',\n",
       " '\"Northwestern\"',\n",
       " '\"WesternMichigan\"',\n",
       " '\"Wisconsin\"',\n",
       " '\"Wyoming\"',\n",
       " '\"Auburn\"',\n",
       " '\"Akron\"',\n",
       " '\"VirginiaTech\"',\n",
       " '\"Alabama\"',\n",
       " '\"UCLA\"',\n",
       " '\"Arizona\"',\n",
       " '\"Utah\"',\n",
       " '\"ArkansasState\"',\n",
       " '\"NorthCarolinaState\"',\n",
       " '\"BallState\"',\n",
       " '\"Florida\"',\n",
       " '\"BoiseState\"',\n",
       " '\"BostonCollege\"',\n",
       " '\"WestVirginia\"',\n",
       " '\"BowlingGreenState\"',\n",
       " '\"Michigan\"',\n",
       " '\"Virginia\"',\n",
       " '\"Buffalo\"',\n",
       " '\"Syracuse\"',\n",
       " '\"CentralFlorida\"',\n",
       " '\"GeorgiaTech\"',\n",
       " '\"CentralMichigan\"',\n",
       " '\"Purdue\"',\n",
       " '\"Colorado\"',\n",
       " '\"ColoradoState\"',\n",
       " '\"Connecticut\"',\n",
       " '\"EasternMichigan\"',\n",
       " '\"EastCarolina\"',\n",
       " '\"Duke\"',\n",
       " '\"FresnoState\"',\n",
       " '\"OhioState\"',\n",
       " '\"Houston\"',\n",
       " '\"Rice\"',\n",
       " '\"Idaho\"',\n",
       " '\"Washington\"',\n",
       " '\"Kansas\"',\n",
       " '\"SouthernMethodist\"',\n",
       " '\"Kent\"',\n",
       " '\"Pittsburgh\"',\n",
       " '\"Kentucky\"',\n",
       " '\"Louisville\"',\n",
       " '\"LouisianaTech\"',\n",
       " '\"LouisianaMonroe\"',\n",
       " '\"Minnesota\"',\n",
       " '\"MiamiOhio\"',\n",
       " '\"Vanderbilt\"',\n",
       " '\"MiddleTennesseeState\"',\n",
       " '\"Illinois\"',\n",
       " '\"MississippiState\"',\n",
       " '\"Memphis\"',\n",
       " '\"Nevada\"',\n",
       " '\"Oregon\"',\n",
       " '\"NewMexicoState\"',\n",
       " '\"SouthCarolina\"',\n",
       " '\"Ohio\"',\n",
       " '\"IowaState\"',\n",
       " '\"SanJoseState\"',\n",
       " '\"Nebraska\"',\n",
       " '\"SouthernMississippi\"',\n",
       " '\"Tennessee\"',\n",
       " '\"Stanford\"',\n",
       " '\"WashingtonState\"',\n",
       " '\"Temple\"',\n",
       " '\"Navy\"',\n",
       " '\"TexasA&M\"',\n",
       " '\"NotreDame\"',\n",
       " '\"TexasElPaso\"',\n",
       " '\"Oklahoma\"',\n",
       " '\"Toledo\"',\n",
       " '\"Tulane\"',\n",
       " '\"Mississippi\"',\n",
       " '\"Tulsa\"',\n",
       " '\"NorthCarolina\"',\n",
       " '\"UtahState\"',\n",
       " '\"Army\"',\n",
       " '\"Cincinnati\"',\n",
       " '\"AirForce\"',\n",
       " '\"Rutgers\"',\n",
       " '\"Georgia\"',\n",
       " '\"LouisianaState\"',\n",
       " '\"LouisianaLafayette\"',\n",
       " '\"Texas\"',\n",
       " '\"Marshall\"',\n",
       " '\"MichiganState\"',\n",
       " '\"MiamiFlorida\"',\n",
       " '\"Missouri\"',\n",
       " '\"Clemson\"',\n",
       " '\"NevadaLasVegas\"',\n",
       " '\"WakeForest\"',\n",
       " '\"Indiana\"',\n",
       " '\"OklahomaState\"',\n",
       " '\"OregonState\"',\n",
       " '\"Maryland\"',\n",
       " '\"TexasChristian\"',\n",
       " '\"California\"',\n",
       " '\"AlabamaBirmingham\"',\n",
       " '\"Arkansas\"',\n",
       " '\"Hawaii\"']"
      ]
     },
     "execution_count": 49,
     "metadata": {},
     "output_type": "execute_result"
    }
   ],
   "source": [
    "labelnames"
   ]
  },
  {
   "cell_type": "code",
   "execution_count": 50,
   "metadata": {},
   "outputs": [],
   "source": [
    "import csv\n",
    "with open('footballNodeList.csv', 'w', newline='') as file:\n",
    "    writer = csv.writer(file)\n",
    "    writer.writerow([\"Id\", \"Label\", \"Influence centrality\",\"community\"])\n",
    "    for i in nodes:\n",
    "        writer.writerow([i, labelnames[i],df[1][i],dict1[i]])"
   ]
  },
  {
   "cell_type": "code",
   "execution_count": null,
   "metadata": {},
   "outputs": [],
   "source": []
  },
  {
   "cell_type": "code",
   "execution_count": null,
   "metadata": {},
   "outputs": [],
   "source": []
  },
  {
   "cell_type": "code",
   "execution_count": null,
   "metadata": {},
   "outputs": [],
   "source": []
  },
  {
   "cell_type": "code",
   "execution_count": null,
   "metadata": {},
   "outputs": [],
   "source": []
  },
  {
   "cell_type": "code",
   "execution_count": null,
   "metadata": {},
   "outputs": [],
   "source": []
  }
 ],
 "metadata": {
  "kernelspec": {
   "display_name": "Python 3",
   "language": "python",
   "name": "python3"
  },
  "language_info": {
   "codemirror_mode": {
    "name": "ipython",
    "version": 3
   },
   "file_extension": ".py",
   "mimetype": "text/x-python",
   "name": "python",
   "nbconvert_exporter": "python",
   "pygments_lexer": "ipython3",
   "version": "3.7.4"
  }
 },
 "nbformat": 4,
 "nbformat_minor": 2
}
